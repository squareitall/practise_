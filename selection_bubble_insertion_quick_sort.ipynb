{
  "nbformat": 4,
  "nbformat_minor": 0,
  "metadata": {
    "colab": {
      "provenance": []
    },
    "kernelspec": {
      "name": "python3",
      "display_name": "Python 3"
    },
    "language_info": {
      "name": "python"
    }
  },
  "cells": [
    {
      "cell_type": "code",
      "execution_count": 1,
      "metadata": {
        "id": "gket7pSFtFOa"
      },
      "outputs": [],
      "source": [
        "A=[10,5,8,20,2,18]"
      ]
    },
    {
      "cell_type": "markdown",
      "source": [
        "# Selection sort \n",
        "O(n2) based\n",
        "\n",
        "Idea is to find the least element as place it at the first index\n",
        "\n",
        "works like how we initially sorted shuffled playing cards in hand\n",
        "\n",
        "Initialize a placer at the left most index \n",
        "Initialize minimum value as  the placer value and the \n",
        "Then find the index of the value that is minimum and to the right \n",
        "\n",
        "Swap the minimum index with the placer index \n",
        "\n",
        "Shift the placer to the right\n",
        "Stop if placer index is greater than n\n",
        "\n",
        "\n"
      ],
      "metadata": {
        "id": "dPOo5f87tdcR"
      }
    },
    {
      "cell_type": "code",
      "source": [
        "A=[10,5,8,20,2,18]\n",
        "\n",
        "def selection_sort(A):\n",
        "  for placer in range(len(A)):\n",
        "    min_val=A[placer]\n",
        "    swap_idx=placer\n",
        "\n",
        "    for slider in range(placer,len(A)):#find the minimum of the array and swap it with the pivot, keep moving the pivot to arrange the minimum most in order\n",
        "      temp_val=A[slider]\n",
        "      if temp_val<min_val:\n",
        "        min_val=temp_val\n",
        "        swap_idx=slider\n",
        "    hold=A[swap_idx]\n",
        "    A[swap_idx]=A[placer]\n",
        "    A[placer]=hold\n",
        "  return A\n",
        "\n",
        "selection_sort(A)\n"
      ],
      "metadata": {
        "colab": {
          "base_uri": "https://localhost:8080/"
        },
        "id": "uiVKglw0tUz9",
        "outputId": "4fbde969-a3bd-4aed-95d6-e1e841fe7504"
      },
      "execution_count": 2,
      "outputs": [
        {
          "output_type": "execute_result",
          "data": {
            "text/plain": [
              "[2, 5, 8, 10, 18, 20]"
            ]
          },
          "metadata": {},
          "execution_count": 2
        }
      ]
    },
    {
      "cell_type": "markdown",
      "source": [
        "If u will think we just found the smallest element to the right of pivot every time and then swapped\n",
        "\n",
        "we could have made use of partitioning about pivot that is wjhat is done in quick sort"
      ],
      "metadata": {
        "id": "sFxKtLpljNH1"
      }
    },
    {
      "cell_type": "markdown",
      "source": [
        "# Bubble SOrt \n",
        "\n",
        "Initialize a pivot at left most index, \n",
        "\n",
        "RUN a loop for pivot from left to rightmost element\n",
        "\n",
        "then run a loop inside from pivot till end \n",
        "  not_sorted is False (we start the looper inside because we belive the array is not sorted and we will \n",
        "  Check the neighbour elements and swap them if left is greater than right \n",
        "  (counter----)\n",
        "  set not_sorted as TRue\n",
        "\n",
        "for the outer pivot loop if not_sorted is False\n",
        "Break\n",
        "\n",
        "\n",
        "\n",
        "\n"
      ],
      "metadata": {
        "id": "Ar4SLHPR0trg"
      }
    },
    {
      "cell_type": "code",
      "source": [
        "A=[10,100,5,8,20,2,18]\n",
        "\n",
        "def bubble_sort(A):\n",
        "  ct=0\n",
        "  for hash_times in range(len(A)):\n",
        "    sorted_arr=True\n",
        "    for checker in range(0,len(A)-1):\n",
        "      #will check the entire array at most n times n *n\n",
        "      #compare with the right value\n",
        "      if A[checker]>A[checker+1]:\n",
        "        sorted_arr=False\n",
        "        ct+=1\n",
        "        temp=A[checker+1]\n",
        "        A[checker+1]=A[checker]\n",
        "        A[checker]=temp\n",
        "    if sorted_arr==True:\n",
        "      break\n",
        "  return (A,ct)\n",
        "\n",
        "\n",
        "print([10,5,8,20,2,18],bubble_sort(A),sep='--->')\n",
        "A=[10,5,8]\n",
        "print([10,5,8],bubble_sort(A),sep='--->')"
      ],
      "metadata": {
        "colab": {
          "base_uri": "https://localhost:8080/"
        },
        "id": "HQE2YpHqwZuX",
        "outputId": "ba989270-d6f4-43ba-8027-d8a1f06df1dc"
      },
      "execution_count": 3,
      "outputs": [
        {
          "output_type": "stream",
          "name": "stdout",
          "text": [
            "[10, 5, 8, 20, 2, 18]--->([2, 5, 8, 10, 18, 20, 100], 12)\n",
            "[10, 5, 8]--->([5, 8, 10], 2)\n"
          ]
        }
      ]
    },
    {
      "cell_type": "markdown",
      "source": [
        "# INSERTION SORT\n",
        "\n",
        "This is another suffle sorting technique in which we fix pivot at the left most index +1\n",
        "the sort till pivot\n",
        "  To sort we only need to fix the pivot element as the elements before pivot are already sorted\n",
        "\n"
      ],
      "metadata": {
        "id": "KTRDmDxp3sp1"
      }
    },
    {
      "cell_type": "code",
      "source": [
        "A=[10,5,8,20,2,18]\n",
        "\n",
        "for pivot in range(1,len(A)):\n",
        "  temp_val=A[pivot]\n",
        "  #while temp_val is smaller than its left neighbour keep shifting the left neighbour to right\n",
        "  where_should_i_go=pivot\n",
        "  checker=pivot-1\n",
        "  while (temp_val<A[checker]) and (checker>=0):\n",
        "    temp=A[checker +1]\n",
        "    A[checker+1]=A[checker]\n",
        "    A[checker]=temp\n",
        "    where_should_i_go=checker\n",
        "    checker-=1\n",
        "A\n",
        "  \n"
      ],
      "metadata": {
        "colab": {
          "base_uri": "https://localhost:8080/"
        },
        "id": "tZ8pnYeX3V4d",
        "outputId": "5103ff81-23f8-4ec9-fc03-fba05b75baa3"
      },
      "execution_count": 4,
      "outputs": [
        {
          "output_type": "execute_result",
          "data": {
            "text/plain": [
              "[2, 5, 8, 10, 18, 20]"
            ]
          },
          "metadata": {},
          "execution_count": 4
        }
      ]
    },
    {
      "cell_type": "markdown",
      "source": [
        "# QUICK SORT"
      ],
      "metadata": {
        "id": "A5emTU4llyrF"
      }
    },
    {
      "cell_type": "markdown",
      "source": [
        "Idea is to partition the array under consideration in two halves one with elements greater than the pivot and the other with elements smaller than the pivot \n",
        "\n",
        "we will be sure that the elemts to the lest are smaller than piv and vice versa \n",
        "  next we just need to sort these two subarrays "
      ],
      "metadata": {
        "id": "YUtJ9a3sl1Pd"
      }
    },
    {
      "cell_type": "code",
      "source": [
        "A=[10,5,8,20,2,18]\n",
        "\n",
        "def move_smaller_to_left(A,low,high):\n",
        "  pivot=A[high]\n",
        "\n",
        "  passive_pointer=low-1\n",
        "  #Till passive pointer everything is less than pivot\n",
        "  #we need this surity\n",
        "  for active_pointer in range(low,high):\n",
        "    # print(A[active_pointer],active_pointer,pivot)\n",
        "    if A[active_pointer]<pivot:\n",
        "      \n",
        "      #then we will swap the element with passive_pointer index\n",
        "      passive_pointer+=1\n",
        "      temp=A[passive_pointer]\n",
        "      A[passive_pointer]=A[active_pointer]\n",
        "      A[active_pointer]=temp\n",
        "      print(f'{(active_pointer,A[active_pointer])}, {(passive_pointer,A[passive_pointer])} swapped')\n",
        "    \n",
        "  passive_pointer+=1\n",
        "  A[passive_pointer],A[high]=A[high],A[passive_pointer]\n",
        "  # print(A)\n",
        "  return passive_pointer\n",
        "#about this passive pointer everything is partitioned\n",
        "#pivot is at the right place\n",
        "A=[10,5,8,20,2,18]\n",
        "A=[2, 5, 8, 10, 18, 20]\n",
        "\n",
        "# move_smaller_to_left(A,0,len(A)-1)\n",
        "move_smaller_to_left(A,1,3)\n",
        "\n",
        "A"
      ],
      "metadata": {
        "id": "Jd08HeoM51Qi",
        "colab": {
          "base_uri": "https://localhost:8080/"
        },
        "outputId": "c1142f3b-d043-498a-c722-1bc1417cbc5c"
      },
      "execution_count": 5,
      "outputs": [
        {
          "output_type": "stream",
          "name": "stdout",
          "text": [
            "(1, 5), (1, 5) swapped\n",
            "(2, 8), (2, 8) swapped\n"
          ]
        },
        {
          "output_type": "execute_result",
          "data": {
            "text/plain": [
              "[2, 5, 8, 10, 18, 20]"
            ]
          },
          "metadata": {},
          "execution_count": 5
        }
      ]
    },
    {
      "cell_type": "code",
      "source": [
        "def quick_sort(A):\n",
        "  last=len(A)-1\n",
        "  first=0\n",
        "  \n",
        "  if first<last:\n",
        "    partition_idx=move_smaller_to_left(A,first,last)\n",
        "    quick_sort(A[:partition_idx])\n",
        "    quick_sort(A[partition_idx+1:])\n",
        "\n",
        "def quick_sort(array, low, high):\n",
        "  print(array,low,high)\n",
        "\n",
        "  if low < high:\n",
        "    pi = move_smaller_to_left(array, low, high)\n",
        "\n",
        "    quick_sort(array, low, pi - 1)\n",
        "\n",
        "    quick_sort(array, pi + 1, high)"
      ],
      "metadata": {
        "id": "gS02XNwuRpjX"
      },
      "execution_count": 6,
      "outputs": []
    },
    {
      "cell_type": "code",
      "source": [
        "A=[10,5,8,20,2,18]\n",
        "\n",
        "quick_sort(A,0,len(A)-1)\n",
        "A"
      ],
      "metadata": {
        "colab": {
          "base_uri": "https://localhost:8080/"
        },
        "id": "3H096mVvIE1f",
        "outputId": "1cb04192-7da6-4231-b3c0-23742eca1b3a"
      },
      "execution_count": 7,
      "outputs": [
        {
          "output_type": "stream",
          "name": "stdout",
          "text": [
            "[10, 5, 8, 20, 2, 18] 0 5\n",
            "(0, 10), (0, 10) swapped\n",
            "(1, 5), (1, 5) swapped\n",
            "(2, 8), (2, 8) swapped\n",
            "(4, 20), (3, 2) swapped\n",
            "[10, 5, 8, 2, 18, 20] 0 3\n",
            "[2, 5, 8, 10, 18, 20] 0 -1\n",
            "[2, 5, 8, 10, 18, 20] 1 3\n",
            "(1, 5), (1, 5) swapped\n",
            "(2, 8), (2, 8) swapped\n",
            "[2, 5, 8, 10, 18, 20] 1 2\n",
            "(1, 5), (1, 5) swapped\n",
            "[2, 5, 8, 10, 18, 20] 1 1\n",
            "[2, 5, 8, 10, 18, 20] 3 2\n",
            "[2, 5, 8, 10, 18, 20] 4 3\n",
            "[2, 5, 8, 10, 18, 20] 5 5\n"
          ]
        },
        {
          "output_type": "execute_result",
          "data": {
            "text/plain": [
              "[2, 5, 8, 10, 18, 20]"
            ]
          },
          "metadata": {},
          "execution_count": 7
        }
      ]
    },
    {
      "cell_type": "code",
      "source": [
        "A"
      ],
      "metadata": {
        "colab": {
          "base_uri": "https://localhost:8080/"
        },
        "id": "LBwy8rXHIWjZ",
        "outputId": "b3d57f0f-5b12-4c8d-d1d3-5b08fb50340a"
      },
      "execution_count": 8,
      "outputs": [
        {
          "output_type": "execute_result",
          "data": {
            "text/plain": [
              "[2, 5, 8, 10, 18, 20]"
            ]
          },
          "metadata": {},
          "execution_count": 8
        }
      ]
    },
    {
      "cell_type": "markdown",
      "source": [
        "# Stability of sorting\n",
        "\n",
        "we just intend to make sure that if the vakues/magnitude of the instances are same then the instance that got appended first must remain at the same relative place after sorting\n",
        "\n",
        "\n",
        "Stability criterion only gets trigger when we have same magbitude values, we just need to make sure that the index order of the same magnitude numbers remains the same \n",
        "\n",
        "Quick sort partitions about pivot with lower values to the left and higher values to the right\n",
        "  \n",
        "  We need to make sure that the lower index same magnitude instances get appended to the left\n",
        "  "
      ],
      "metadata": {
        "id": "zKq0oCDx-fOl"
      }
    },
    {
      "cell_type": "code",
      "source": [
        "A=[10,5,8,18.1,20,2,18]\n",
        "\n",
        "def move_smaller_to_left(A,low,high):\n",
        "  pivot=int(A[high])\n",
        "\n",
        "  passive_pointer=low-1\n",
        "\n",
        "  for active_pointer in range(low,high):\n",
        "    if int(A[active_pointer])<pivot:   \n",
        "\n",
        "      passive_pointer+=1\n",
        "      temp=A[passive_pointer]\n",
        "      A[passive_pointer]=A[active_pointer]\n",
        "      A[active_pointer]=temp\n",
        "\n",
        "    elif int(A[active_pointer])==pivot:\n",
        "      if active_pointer<high:#previously any equal to pivot instance was sent to right partition\n",
        "        passive_pointer+=1\n",
        "        temp=A[passive_pointer]\n",
        "        A[passive_pointer]=A[active_pointer]\n",
        "        A[active_pointer]=temp\n",
        "\n",
        "      print(f'{(active_pointer,A[active_pointer])}, {(passive_pointer,A[passive_pointer])} swapped')\n",
        "    \n",
        "  passive_pointer+=1\n",
        "  A[passive_pointer],A[high]=A[high],A[passive_pointer]\n",
        "  return passive_pointer\n",
        "\n",
        "\n",
        "\n",
        "\n",
        "\n",
        "# #pivot is at the right place\n",
        "# A=[10,5,8,20,2,18]\n",
        "# A=[2, 5, 8, 10, 18, 20]\n",
        "\n",
        "# # move_smaller_to_left(A,0,len(A)-1)\n",
        "# move_smaller_to_left(A,1,3)\n",
        "\n",
        "\n",
        "\n",
        "A"
      ],
      "metadata": {
        "id": "llGZJNeuMGMU",
        "colab": {
          "base_uri": "https://localhost:8080/"
        },
        "outputId": "f89dff92-06d8-4c04-b0cc-23b38e8e2bdc"
      },
      "execution_count": 11,
      "outputs": [
        {
          "output_type": "execute_result",
          "data": {
            "text/plain": [
              "[10, 5, 8, 18.1, 20, 2, 18]"
            ]
          },
          "metadata": {},
          "execution_count": 11
        }
      ]
    },
    {
      "cell_type": "code",
      "source": [
        "quick_sort(A,0,len(A)-1)\n",
        "A"
      ],
      "metadata": {
        "colab": {
          "base_uri": "https://localhost:8080/"
        },
        "outputId": "77bb6a4e-77b8-4f7c-fb7f-0f6a177df985",
        "id": "coz7fN9vBUOg"
      },
      "execution_count": 12,
      "outputs": [
        {
          "output_type": "stream",
          "name": "stdout",
          "text": [
            "[10, 5, 8, 18.1, 20, 2, 18] 0 6\n",
            "(3, 18.1), (3, 18.1) swapped\n",
            "[10, 5, 8, 18.1, 2, 18, 20] 0 4\n",
            "[2, 5, 8, 18.1, 10, 18, 20] 0 -1\n",
            "[2, 5, 8, 18.1, 10, 18, 20] 1 4\n",
            "[2, 5, 8, 10, 18.1, 18, 20] 1 2\n",
            "[2, 5, 8, 10, 18.1, 18, 20] 1 1\n",
            "[2, 5, 8, 10, 18.1, 18, 20] 3 2\n",
            "[2, 5, 8, 10, 18.1, 18, 20] 4 4\n",
            "[2, 5, 8, 10, 18.1, 18, 20] 6 6\n"
          ]
        },
        {
          "output_type": "execute_result",
          "data": {
            "text/plain": [
              "[2, 5, 8, 10, 18.1, 18, 20]"
            ]
          },
          "metadata": {},
          "execution_count": 12
        }
      ]
    },
    {
      "cell_type": "code",
      "source": [
        "A#relative order of 18.1 and 18 remained same as they both have equal integer magnitude "
      ],
      "metadata": {
        "colab": {
          "base_uri": "https://localhost:8080/"
        },
        "id": "-JzoDer9BOEB",
        "outputId": "f250ff43-ab93-4020-a729-80fe9d235842"
      },
      "execution_count": 14,
      "outputs": [
        {
          "output_type": "execute_result",
          "data": {
            "text/plain": [
              "[2, 5, 8, 10, 18.1, 18, 20]"
            ]
          },
          "metadata": {},
          "execution_count": 14
        }
      ]
    },
    {
      "cell_type": "code",
      "source": [],
      "metadata": {
        "id": "mFh4YmKPBXr2"
      },
      "execution_count": null,
      "outputs": []
    }
  ]
}