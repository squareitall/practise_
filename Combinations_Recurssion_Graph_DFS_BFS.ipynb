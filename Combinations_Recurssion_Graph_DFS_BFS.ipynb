{
  "nbformat": 4,
  "nbformat_minor": 0,
  "metadata": {
    "colab": {
      "provenance": []
    },
    "kernelspec": {
      "name": "python3",
      "display_name": "Python 3"
    },
    "language_info": {
      "name": "python"
    }
  },
  "cells": [
    {
      "cell_type": "markdown",
      "source": [
        "Will start with solving a recurssion problem that can be incorporated to generate combinations of number \n",
        "\n",
        "Ncr results will be printed from a given array\n",
        "\n",
        "N will be the length of the array \n",
        "and r will be the number of elements that we need \n",
        "\n",
        "\n"
      ],
      "metadata": {
        "id": "JbfywrkxMHOR"
      }
    },
    {
      "cell_type": "code",
      "execution_count": 8,
      "metadata": {
        "id": "9wewccT0L5Mn"
      },
      "outputs": [],
      "source": [
        "A=[1,2,3,4,5]\n",
        "n=len(A)#5\n",
        "r=3\n",
        "\n",
        "# A recurssion needs a stop criterion and a and a function that connects with the nested functions with the help of some variable\n",
        "\n",
        "#  In this problem we will have a place holder at front and will keep traversing all the options to fill the placeholder from the parent list given'\n",
        "\n",
        "\n",
        "def generate_combinations(A,start,end,placeholder,pointer_placeholder,r,n):\n",
        "  if pointer_placeholder==r:\n",
        "    print(placeholder)\n",
        "    return \n",
        "  for ii in range(start,end):\n",
        "    # check if there are places left in the placeholder#pointer_placeholder--0,1,2, r==3\n",
        "    if (r-pointer_placeholder)-1<end-ii:\n",
        "      placeholder[pointer_placeholder]=A[ii]\n",
        "      generate_combinations(A,start+1,end,placeholder,pointer_placeholder+1,r,n)\n",
        "\n",
        "\n"
      ]
    },
    {
      "cell_type": "code",
      "source": [
        "generate_combinations(A,start=0,end=len(A),placeholder=[1]*3,pointer_placeholder=0,r=3,n=5)#need to corrrect"
      ],
      "metadata": {
        "colab": {
          "base_uri": "https://localhost:8080/"
        },
        "id": "pPf7E9EXRaa0",
        "outputId": "6c54f0b2-8038-4ef8-a90d-dce28a6b022a"
      },
      "execution_count": 9,
      "outputs": [
        {
          "output_type": "stream",
          "name": "stdout",
          "text": [
            "[1, 2, 3]\n",
            "[1, 2, 4]\n",
            "[1, 2, 5]\n",
            "[1, 3, 3]\n",
            "[1, 3, 4]\n",
            "[1, 3, 5]\n",
            "[1, 4, 3]\n",
            "[1, 4, 4]\n",
            "[1, 4, 5]\n",
            "[2, 2, 3]\n",
            "[2, 2, 4]\n",
            "[2, 2, 5]\n",
            "[2, 3, 3]\n",
            "[2, 3, 4]\n",
            "[2, 3, 5]\n",
            "[2, 4, 3]\n",
            "[2, 4, 4]\n",
            "[2, 4, 5]\n",
            "[3, 2, 3]\n",
            "[3, 2, 4]\n",
            "[3, 2, 5]\n",
            "[3, 3, 3]\n",
            "[3, 3, 4]\n",
            "[3, 3, 5]\n",
            "[3, 4, 3]\n",
            "[3, 4, 4]\n",
            "[3, 4, 5]\n"
          ]
        }
      ]
    },
    {
      "cell_type": "code",
      "source": [],
      "metadata": {
        "id": "LoHuYbaqRuvY"
      },
      "execution_count": null,
      "outputs": []
    }
  ]
}