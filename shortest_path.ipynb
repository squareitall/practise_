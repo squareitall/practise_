{
  "nbformat": 4,
  "nbformat_minor": 0,
  "metadata": {
    "colab": {
      "provenance": []
    },
    "kernelspec": {
      "name": "python3",
      "display_name": "Python 3"
    },
    "language_info": {
      "name": "python"
    }
  },
  "cells": [
    {
      "cell_type": "code",
      "execution_count": 1,
      "metadata": {
        "id": "N9ZoxV1Cevhm"
      },
      "outputs": [],
      "source": [
        "# We will try to find shortest ath in a graph between two nodes\n",
        "\n",
        "# When the edges ARE NOT WEIGHTED then the shortest path is the the one give by BFS search \n",
        "\n"
      ]
    },
    {
      "cell_type": "markdown",
      "source": [
        "# BFS (non weighted graphs)"
      ],
      "metadata": {
        "id": "4szgSmsmfAnw"
      }
    },
    {
      "cell_type": "code",
      "source": [
        "from collections import defaultdict\n",
        " \n",
        "# This class represents a directed graph\n",
        "# using adjacency list representation\n",
        "class Graph:\n",
        " \n",
        "    # Constructor\n",
        "    def __init__(self):\n",
        " \n",
        "        # default dictionary to store graph\n",
        "        self.graph = defaultdict(list)\n",
        " \n",
        "    # function to add an edge to graph\n",
        "    def addEdge(self,u,v):\n",
        "        self.graph[u].append(v)\n",
        "\n",
        "g = Graph()\n",
        "g.addEdge(0, 1)\n",
        "g.addEdge(0, 2)\n",
        "g.addEdge(1, 2)\n",
        "g.addEdge(2, 0)\n",
        "g.addEdge(2, 3)\n",
        "g.addEdge(3, 3)\n",
        "\n",
        "temp_graph=g.graph\n",
        "temp_graph\n"
      ],
      "metadata": {
        "colab": {
          "base_uri": "https://localhost:8080/"
        },
        "id": "oIProoSGfALV",
        "outputId": "25efbbe7-ad7b-439c-db55-2a51cf0a2326"
      },
      "execution_count": 5,
      "outputs": [
        {
          "output_type": "execute_result",
          "data": {
            "text/plain": [
              "defaultdict(list, {0: [1, 2], 1: [2], 2: [0, 3], 3: [3]})"
            ]
          },
          "metadata": {},
          "execution_count": 5
        }
      ]
    },
    {
      "cell_type": "code",
      "source": [
        "seen_placeholder={i:False for i in temp_graph.keys()}\n",
        "parent_placeholder={i:-1 for i in temp_graph.keys()}\n",
        "\n",
        "fifo_queue=[]#pop(0),append()\n",
        "\n",
        "first_vertex=0\n",
        "\n",
        "fifo_queue.append(first_vertex)\n",
        "\n",
        "while len(fifo_queue)>0:\n",
        "  print(fifo_queue)\n",
        "  element_under_consideration=fifo_queue.pop(0)\n",
        "\n",
        "  for adj_nodes in temp_graph[element_under_consideration]:\n",
        "    if not seen_placeholder[adj_nodes]:\n",
        "      parent_placeholder[adj_nodes]=element_under_consideration\n",
        "      seen_placeholder[adj_nodes]=True\n",
        "      fifo_queue.append(adj_nodes)\n"
      ],
      "metadata": {
        "colab": {
          "base_uri": "https://localhost:8080/"
        },
        "id": "cIW_J7yLfYi3",
        "outputId": "3472f302-22b0-47f2-d0a2-56f932825d14"
      },
      "execution_count": 13,
      "outputs": [
        {
          "output_type": "stream",
          "name": "stdout",
          "text": [
            "[0]\n",
            "[1, 2]\n",
            "[2]\n",
            "[0, 3]\n",
            "[3]\n"
          ]
        }
      ]
    },
    {
      "cell_type": "code",
      "source": [
        "parent_placeholder"
      ],
      "metadata": {
        "colab": {
          "base_uri": "https://localhost:8080/"
        },
        "id": "t6cVWdwtfg42",
        "outputId": "33f3fb8e-c7d5-47a0-c235-1f19ae014af3"
      },
      "execution_count": 14,
      "outputs": [
        {
          "output_type": "execute_result",
          "data": {
            "text/plain": [
              "{0: 2, 1: 0, 2: 0, 3: 2}"
            ]
          },
          "metadata": {},
          "execution_count": 14
        }
      ]
    },
    {
      "cell_type": "code",
      "source": [
        "seen_placeholder"
      ],
      "metadata": {
        "colab": {
          "base_uri": "https://localhost:8080/"
        },
        "id": "MpbyhTfeh5Fw",
        "outputId": "1a973156-60d2-46e3-96ca-783b66730249"
      },
      "execution_count": 15,
      "outputs": [
        {
          "output_type": "execute_result",
          "data": {
            "text/plain": [
              "{0: True, 1: True, 2: True, 3: True}"
            ]
          },
          "metadata": {},
          "execution_count": 15
        }
      ]
    },
    {
      "cell_type": "code",
      "source": [],
      "metadata": {
        "id": "cJ6uHLMTiP5j"
      },
      "execution_count": null,
      "outputs": []
    }
  ]
}